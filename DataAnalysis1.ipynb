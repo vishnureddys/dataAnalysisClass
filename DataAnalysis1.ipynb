{
 "cells": [
  {
   "cell_type": "code",
   "execution_count": 1,
   "metadata": {},
   "outputs": [],
   "source": [
    "### Qualitative data/categorical data"
   ]
  },
  {
   "cell_type": "code",
   "execution_count": 2,
   "metadata": {},
   "outputs": [],
   "source": [
    "# c() - Concatenate"
   ]
  },
  {
   "cell_type": "code",
   "execution_count": 3,
   "metadata": {},
   "outputs": [],
   "source": [
    "# Factors are used to represent categorical data"
   ]
  },
  {
   "cell_type": "code",
   "execution_count": 4,
   "metadata": {},
   "outputs": [],
   "source": [
    "# Either ordered or unordered"
   ]
  },
  {
   "cell_type": "code",
   "execution_count": 5,
   "metadata": {},
   "outputs": [],
   "source": [
    "# Important class for statistical plotting\n",
    "# Will be stored as integers\n",
    "# Has an important concept called \"LABELS\""
   ]
  },
  {
   "cell_type": "code",
   "execution_count": 6,
   "metadata": {},
   "outputs": [],
   "source": [
    "# Command used is FACTOR()"
   ]
  },
  {
   "cell_type": "code",
   "execution_count": null,
   "metadata": {},
   "outputs": [],
   "source": []
  },
  {
   "cell_type": "code",
   "execution_count": 7,
   "metadata": {},
   "outputs": [],
   "source": [
    "cols <- c(\"blue\",\"red\",\"green\",\"blue\",\"yellow\",\"red\",\"yellow\")"
   ]
  },
  {
   "cell_type": "code",
   "execution_count": 10,
   "metadata": {},
   "outputs": [
    {
     "name": "stdout",
     "output_type": "stream",
     "text": [
      " chr [1:7] \"blue\" \"red\" \"green\" \"blue\" \"yellow\" \"red\" \"yellow\"\n"
     ]
    }
   ],
   "source": [
    "# To find structure of the vector cols\n",
    "str(cols)"
   ]
  },
  {
   "cell_type": "code",
   "execution_count": 11,
   "metadata": {},
   "outputs": [
    {
     "data": {
      "text/plain": [
       "   Length     Class      Mode \n",
       "        7 character character "
      ]
     },
     "metadata": {},
     "output_type": "display_data"
    }
   ],
   "source": [
    "# TO find summary\n",
    "summary(cols)"
   ]
  },
  {
   "cell_type": "code",
   "execution_count": 12,
   "metadata": {},
   "outputs": [
    {
     "data": {
      "text/html": [
       "'green'"
      ],
      "text/latex": [
       "'green'"
      ],
      "text/markdown": [
       "'green'"
      ],
      "text/plain": [
       "[1] \"green\""
      ]
     },
     "metadata": {},
     "output_type": "display_data"
    }
   ],
   "source": [
    "# To access individually\n",
    "cols[3]"
   ]
  },
  {
   "cell_type": "code",
   "execution_count": 13,
   "metadata": {},
   "outputs": [
    {
     "data": {
      "text/html": [
       "<ol class=list-inline>\n",
       "\t<li>blue</li>\n",
       "\t<li>red</li>\n",
       "\t<li>green</li>\n",
       "\t<li>blue</li>\n",
       "\t<li>yellow</li>\n",
       "\t<li>red</li>\n",
       "\t<li>yellow</li>\n",
       "</ol>\n",
       "\n",
       "<details>\n",
       "\t<summary style=display:list-item;cursor:pointer>\n",
       "\t\t<strong>Levels</strong>:\n",
       "\t</summary>\n",
       "\t<ol class=list-inline>\n",
       "\t\t<li>'blue'</li>\n",
       "\t\t<li>'green'</li>\n",
       "\t\t<li>'red'</li>\n",
       "\t\t<li>'yellow'</li>\n",
       "\t</ol>\n",
       "</details>"
      ],
      "text/latex": [
       "\\begin{enumerate*}\n",
       "\\item blue\n",
       "\\item red\n",
       "\\item green\n",
       "\\item blue\n",
       "\\item yellow\n",
       "\\item red\n",
       "\\item yellow\n",
       "\\end{enumerate*}\n",
       "\n",
       "\\emph{Levels}: \\begin{enumerate*}\n",
       "\\item 'blue'\n",
       "\\item 'green'\n",
       "\\item 'red'\n",
       "\\item 'yellow'\n",
       "\\end{enumerate*}\n"
      ],
      "text/markdown": [
       "1. blue\n",
       "2. red\n",
       "3. green\n",
       "4. blue\n",
       "5. yellow\n",
       "6. red\n",
       "7. yellow\n",
       "\n",
       "\n",
       "\n",
       "**Levels**: 1. 'blue'\n",
       "2. 'green'\n",
       "3. 'red'\n",
       "4. 'yellow'\n",
       "\n",
       "\n"
      ],
      "text/plain": [
       "[1] blue   red    green  blue   yellow red    yellow\n",
       "Levels: blue green red yellow"
      ]
     },
     "metadata": {},
     "output_type": "display_data"
    }
   ],
   "source": [
    "# To convert class character to integers -- factor()\n",
    "factor(cols)"
   ]
  },
  {
   "cell_type": "code",
   "execution_count": 15,
   "metadata": {},
   "outputs": [],
   "source": [
    "# To store it back in cols\n",
    "cols <- factor(cols)"
   ]
  },
  {
   "cell_type": "code",
   "execution_count": 16,
   "metadata": {},
   "outputs": [
    {
     "data": {
      "text/html": [
       "green\n",
       "<details>\n",
       "\t<summary style=display:list-item;cursor:pointer>\n",
       "\t\t<strong>Levels</strong>:\n",
       "\t</summary>\n",
       "\t<ol class=list-inline>\n",
       "\t\t<li>'blue'</li>\n",
       "\t\t<li>'green'</li>\n",
       "\t\t<li>'red'</li>\n",
       "\t\t<li>'yellow'</li>\n",
       "\t</ol>\n",
       "</details>"
      ],
      "text/latex": [
       "green\n",
       "\\emph{Levels}: \\begin{enumerate*}\n",
       "\\item 'blue'\n",
       "\\item 'green'\n",
       "\\item 'red'\n",
       "\\item 'yellow'\n",
       "\\end{enumerate*}\n"
      ],
      "text/markdown": [
       "green\n",
       "**Levels**: 1. 'blue'\n",
       "2. 'green'\n",
       "3. 'red'\n",
       "4. 'yellow'\n",
       "\n",
       "\n"
      ],
      "text/plain": [
       "[1] green\n",
       "Levels: blue green red yellow"
      ]
     },
     "metadata": {},
     "output_type": "display_data"
    }
   ],
   "source": [
    "cols[3]"
   ]
  },
  {
   "cell_type": "code",
   "execution_count": 17,
   "metadata": {},
   "outputs": [
    {
     "name": "stdout",
     "output_type": "stream",
     "text": [
      " Factor w/ 4 levels \"blue\",\"green\",..: 1 3 2 1 4 3 4\n"
     ]
    }
   ],
   "source": [
    "str(cols)"
   ]
  },
  {
   "cell_type": "code",
   "execution_count": 18,
   "metadata": {},
   "outputs": [
    {
     "data": {
      "text/html": [
       "<ol class=list-inline>\n",
       "\t<li>'blue'</li>\n",
       "\t<li>'green'</li>\n",
       "\t<li>'red'</li>\n",
       "\t<li>'yellow'</li>\n",
       "</ol>\n"
      ],
      "text/latex": [
       "\\begin{enumerate*}\n",
       "\\item 'blue'\n",
       "\\item 'green'\n",
       "\\item 'red'\n",
       "\\item 'yellow'\n",
       "\\end{enumerate*}\n"
      ],
      "text/markdown": [
       "1. 'blue'\n",
       "2. 'green'\n",
       "3. 'red'\n",
       "4. 'yellow'\n",
       "\n",
       "\n"
      ],
      "text/plain": [
       "[1] \"blue\"   \"green\"  \"red\"    \"yellow\""
      ]
     },
     "metadata": {},
     "output_type": "display_data"
    }
   ],
   "source": [
    "# Levels of cols\n",
    "levels(cols)"
   ]
  },
  {
   "cell_type": "code",
   "execution_count": 20,
   "metadata": {},
   "outputs": [
    {
     "data": {
      "text/plain": [
       "cols\n",
       "  blue  green    red yellow \n",
       "     2      1      2      2 "
      ]
     },
     "metadata": {},
     "output_type": "display_data"
    }
   ],
   "source": [
    "# Table of cols\n",
    "# This is called the frequency table\n",
    "table(cols)"
   ]
  },
  {
   "cell_type": "code",
   "execution_count": 22,
   "metadata": {},
   "outputs": [
    {
     "data": {
      "text/html": [
       "<dl class=dl-horizontal>\n",
       "\t<dt>blue</dt>\n",
       "\t\t<dd>2</dd>\n",
       "\t<dt>green</dt>\n",
       "\t\t<dd>1</dd>\n",
       "\t<dt>red</dt>\n",
       "\t\t<dd>2</dd>\n",
       "\t<dt>yellow</dt>\n",
       "\t\t<dd>2</dd>\n",
       "</dl>\n"
      ],
      "text/latex": [
       "\\begin{description*}\n",
       "\\item[blue] 2\n",
       "\\item[green] 1\n",
       "\\item[red] 2\n",
       "\\item[yellow] 2\n",
       "\\end{description*}\n"
      ],
      "text/markdown": [
       "blue\n",
       ":   2green\n",
       ":   1red\n",
       ":   2yellow\n",
       ":   2\n",
       "\n"
      ],
      "text/plain": [
       "  blue  green    red yellow \n",
       "     2      1      2      2 "
      ]
     },
     "metadata": {},
     "output_type": "display_data"
    }
   ],
   "source": [
    "# table is almost same as summary\n",
    "summary(cols)"
   ]
  },
  {
   "cell_type": "code",
   "execution_count": 23,
   "metadata": {},
   "outputs": [],
   "source": [
    "# Assigning to a variable\n",
    "B <- table(cols)"
   ]
  },
  {
   "cell_type": "code",
   "execution_count": 24,
   "metadata": {},
   "outputs": [
    {
     "data": {
      "text/plain": [
       "cols\n",
       "  blue  green    red yellow \n",
       "     2      1      2      2 "
      ]
     },
     "metadata": {},
     "output_type": "display_data"
    }
   ],
   "source": [
    "B"
   ]
  },
  {
   "cell_type": "code",
   "execution_count": 25,
   "metadata": {},
   "outputs": [
    {
     "data": {
      "text/html": [
       "<strong>yellow:</strong> 2"
      ],
      "text/latex": [
       "\\textbf{yellow:} 2"
      ],
      "text/markdown": [
       "**yellow:** 2"
      ],
      "text/plain": [
       "yellow \n",
       "     2 "
      ]
     },
     "metadata": {},
     "output_type": "display_data"
    }
   ],
   "source": [
    "B[4]"
   ]
  },
  {
   "cell_type": "code",
   "execution_count": null,
   "metadata": {},
   "outputs": [],
   "source": []
  }
 ],
 "metadata": {
  "kernelspec": {
   "display_name": "R",
   "language": "R",
   "name": "ir"
  },
  "language_info": {
   "codemirror_mode": "r",
   "file_extension": ".r",
   "mimetype": "text/x-r-source",
   "name": "R",
   "pygments_lexer": "r",
   "version": "3.6.1"
  }
 },
 "nbformat": 4,
 "nbformat_minor": 4
}
